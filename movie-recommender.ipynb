{
  "nbformat": 4,
  "nbformat_minor": 0,
  "metadata": {
    "colab": {
      "provenance": []
    },
    "kernelspec": {
      "name": "python3",
      "display_name": "Python 3"
    },
    "language_info": {
      "name": "python"
    }
  },
  "cells": [
    {
      "cell_type": "code",
      "source": [
        "# !pip install fuzzywuzzy[speedup]"
      ],
      "metadata": {
        "id": "zPM4ak2YNzON"
      },
      "execution_count": 49,
      "outputs": []
    },
    {
      "cell_type": "code",
      "source": [
        "import pandas as pd\n",
        "import warnings\n",
        "warnings.filterwarnings('ignore') # To clean up output\n",
        "\n",
        "from fuzzywuzzy import process"
      ],
      "metadata": {
        "id": "-jsHRVWFN70z"
      },
      "execution_count": 50,
      "outputs": []
    },
    {
      "cell_type": "code",
      "source": [
        "# Load ratings data\n",
        "ratings = pd.read_csv('u.data', sep='\\t', names=['user_id', 'movie_id', 'rating', 'timestamp'])\n",
        "\n",
        "# Load movie info\n",
        "movies = pd.read_csv('u.item', sep='|', encoding='latin-1', names=[\n",
        "    'movie_id', 'title', 'release_date', 'video_release_date', 'IMDb_URL',\n",
        "    'unknown', 'Action', 'Adventure', 'Animation', 'Children', 'Comedy', 'Crime',\n",
        "    'Documentary', 'Drama', 'Fantasy', 'Film-Noir', 'Horror', 'Musical', 'Mystery',\n",
        "    'Romance', 'Sci-Fi', 'Thriller', 'War', 'Western'\n",
        "])\n",
        "\n",
        "# Merge datasets\n",
        "data = pd.merge(ratings, movies[['movie_id', 'title']], on='movie_id')"
      ],
      "metadata": {
        "id": "pNONQYjODm7e"
      },
      "execution_count": 51,
      "outputs": []
    },
    {
      "cell_type": "code",
      "source": [
        "# Create user-movie matrix\n",
        "movie_matrix = data.pivot_table(index='user_id', columns='title', values='rating')\n",
        "\n",
        "# Drop movies rated by <50 users and users who rated <10 movies\n",
        "movie_matrix = movie_matrix.dropna(axis=1, thresh=50)\n",
        "movie_matrix = movie_matrix.dropna(axis=0, thresh=10)"
      ],
      "metadata": {
        "id": "mHX-4bDbOG1g"
      },
      "execution_count": 52,
      "outputs": []
    },
    {
      "cell_type": "code",
      "source": [
        "def get_closest_movie_title(user_input, all_titles):\n",
        "    match, score = process.extractOne(user_input, all_titles)\n",
        "    return match, score"
      ],
      "metadata": {
        "id": "4S4tkV14OKMT"
      },
      "execution_count": 53,
      "outputs": []
    },
    {
      "cell_type": "code",
      "source": [
        "user_input = input(\"Enter a movie name (e.g., Toy Story): \")\n",
        "\n",
        "# Find closest match using fuzzy matching\n",
        "matched_title, confidence = get_closest_movie_title(user_input, movie_matrix.columns)\n",
        "\n",
        "print(f\"\\nBest match: {matched_title} (Confidence: {confidence}%)\")\n",
        "\n",
        "# Recommend only if confidence is high\n",
        "if confidence < 60:\n",
        "    print(\"Could not confidently match your input. Please try again.\")\n",
        "else:\n",
        "    user_movie = matched_title\n",
        "\n",
        "    # Find similar movies\n",
        "    similar_movies = movie_matrix.corrwith(movie_matrix[user_movie])\n",
        "    corr_df = pd.DataFrame(similar_movies, columns=['Correlation'])\n",
        "    corr_df.dropna(inplace=True)\n",
        "\n",
        "    # Add number of ratings per movie\n",
        "    rating_counts = data.groupby('title')['rating'].count()\n",
        "    corr_df = corr_df.join(rating_counts)\n",
        "    corr_df.rename(columns={'rating': 'Rating Count'}, inplace=True)\n",
        "\n",
        "    # Filter out less-rated movies and the movie itself\n",
        "    recommendations = corr_df[corr_df['Rating Count'] > 50]\n",
        "    recommendations = recommendations[recommendations.index != user_movie]\n",
        "    recommendations = recommendations.sort_values('Correlation', ascending=False)\n",
        "\n",
        "    # Display top 10\n",
        "    print(f\"\\n Top 10 movie recommendations for: {user_movie}\\n\")\n",
        "    print(recommendations.head(10))"
      ],
      "metadata": {
        "colab": {
          "base_uri": "https://localhost:8080/"
        },
        "id": "A2ZJMv5VECbF",
        "outputId": "aced30c2-949a-4609-b364-b373941a198d"
      },
      "execution_count": 54,
      "outputs": [
        {
          "output_type": "stream",
          "name": "stdout",
          "text": [
            "Enter a movie name (e.g., Toy Story): Star Wars\n",
            "\n",
            "Best match: Star Wars (1977) (Confidence: 90%)\n",
            "\n",
            " Top 10 movie recommendations for: Star Wars (1977)\n",
            "\n",
            "                                                    Correlation  Rating Count\n",
            "title                                                                        \n",
            "Empire Strikes Back, The (1980)                        0.747981           367\n",
            "Return of the Jedi (1983)                              0.672556           507\n",
            "Raiders of the Lost Ark (1981)                         0.536117           420\n",
            "Giant (1956)                                           0.488093            51\n",
            "Life Less Ordinary, A (1997)                           0.411638            53\n",
            "Austin Powers: International Man of Mystery (1997)     0.377433           130\n",
            "Sting, The (1973)                                      0.367538           241\n",
            "Indiana Jones and the Last Crusade (1989)              0.350107           331\n",
            "Pinocchio (1940)                                       0.347868           101\n",
            "Things to Do in Denver when You're Dead (1995)         0.337714            71\n"
          ]
        }
      ]
    },
    {
      "cell_type": "code",
      "source": [],
      "metadata": {
        "id": "eoZbRya4EowI"
      },
      "execution_count": 54,
      "outputs": []
    }
  ]
}